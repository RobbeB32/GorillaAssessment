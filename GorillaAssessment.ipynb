{
 "cells": [
  {
   "cell_type": "markdown",
   "metadata": {},
   "source": [
    "# Gorilla assessment"
   ]
  },
  {
   "cell_type": "code",
   "execution_count": 1,
   "metadata": {},
   "outputs": [],
   "source": [
    "import pandas as pd"
   ]
  },
  {
   "cell_type": "markdown",
   "metadata": {},
   "source": [
    "### Import xlsx from current directory as df\n",
    "\n",
    "For some reason, the read_excel function fails when using provided xlsx file. When opening file and saving as Office 2007-2013 XML in LibreOffice, read_excel function works flawlessly. "
   ]
  },
  {
   "cell_type": "code",
   "execution_count": 2,
   "metadata": {},
   "outputs": [
    {
     "data": {
      "text/plain": [
       "Meter ID      int64\n",
       "kWh         float64\n",
       "dtype: object"
      ]
     },
     "execution_count": 2,
     "metadata": {},
     "output_type": "execute_result"
    }
   ],
   "source": [
    "#date as index enables timeseries operations later on\n",
    "forecast = pd.read_excel('data.xlsx', sheet_name='Forecasted Consumption', index_col=0)\n",
    "meters = pd.read_excel('data.xlsx', sheet_name='Meter List', index_col=0)\n",
    "rates = pd.read_excel('data.xlsx', sheet_name='Rates', index_col=0)\n",
    "\n",
    "forecast.dtypes"
   ]
  },
  {
   "cell_type": "code",
   "execution_count": 3,
   "metadata": {},
   "outputs": [
    {
     "data": {
      "text/html": [
       "<div>\n",
       "<style scoped>\n",
       "    .dataframe tbody tr th:only-of-type {\n",
       "        vertical-align: middle;\n",
       "    }\n",
       "\n",
       "    .dataframe tbody tr th {\n",
       "        vertical-align: top;\n",
       "    }\n",
       "\n",
       "    .dataframe thead th {\n",
       "        text-align: right;\n",
       "    }\n",
       "</style>\n",
       "<table border=\"1\" class=\"dataframe\">\n",
       "  <thead>\n",
       "    <tr style=\"text-align: right;\">\n",
       "      <th></th>\n",
       "      <th>Meter ID</th>\n",
       "      <th>kWh</th>\n",
       "    </tr>\n",
       "    <tr>\n",
       "      <th>Date</th>\n",
       "      <th></th>\n",
       "      <th></th>\n",
       "    </tr>\n",
       "  </thead>\n",
       "  <tbody>\n",
       "    <tr>\n",
       "      <th>2020-10-01</th>\n",
       "      <td>1000000603</td>\n",
       "      <td>28.782474</td>\n",
       "    </tr>\n",
       "    <tr>\n",
       "      <th>2020-10-01</th>\n",
       "      <td>10588707</td>\n",
       "      <td>126.367711</td>\n",
       "    </tr>\n",
       "    <tr>\n",
       "      <th>2020-10-01</th>\n",
       "      <td>10626610</td>\n",
       "      <td>326.240595</td>\n",
       "    </tr>\n",
       "    <tr>\n",
       "      <th>2020-10-02</th>\n",
       "      <td>1000000603</td>\n",
       "      <td>26.690797</td>\n",
       "    </tr>\n",
       "    <tr>\n",
       "      <th>2020-10-02</th>\n",
       "      <td>10588707</td>\n",
       "      <td>118.322449</td>\n",
       "    </tr>\n",
       "  </tbody>\n",
       "</table>\n",
       "</div>"
      ],
      "text/plain": [
       "              Meter ID         kWh\n",
       "Date                              \n",
       "2020-10-01  1000000603   28.782474\n",
       "2020-10-01    10588707  126.367711\n",
       "2020-10-01    10626610  326.240595\n",
       "2020-10-02  1000000603   26.690797\n",
       "2020-10-02    10588707  118.322449"
      ]
     },
     "execution_count": 3,
     "metadata": {},
     "output_type": "execute_result"
    }
   ],
   "source": [
    "forecast.head()"
   ]
  },
  {
   "cell_type": "code",
   "execution_count": 4,
   "metadata": {},
   "outputs": [
    {
     "data": {
      "text/html": [
       "<div>\n",
       "<style scoped>\n",
       "    .dataframe tbody tr th:only-of-type {\n",
       "        vertical-align: middle;\n",
       "    }\n",
       "\n",
       "    .dataframe tbody tr th {\n",
       "        vertical-align: top;\n",
       "    }\n",
       "\n",
       "    .dataframe thead th {\n",
       "        text-align: right;\n",
       "    }\n",
       "</style>\n",
       "<table border=\"1\" class=\"dataframe\">\n",
       "  <thead>\n",
       "    <tr style=\"text-align: right;\">\n",
       "      <th></th>\n",
       "      <th>Exit Zone</th>\n",
       "      <th>Annual Quantity (kWh)</th>\n",
       "    </tr>\n",
       "    <tr>\n",
       "      <th>Meter ID</th>\n",
       "      <th></th>\n",
       "      <th></th>\n",
       "    </tr>\n",
       "  </thead>\n",
       "  <tbody>\n",
       "    <tr>\n",
       "      <th>1000000603</th>\n",
       "      <td>SC1</td>\n",
       "      <td>12337</td>\n",
       "    </tr>\n",
       "    <tr>\n",
       "      <th>10588707</th>\n",
       "      <td>EM2</td>\n",
       "      <td>75123</td>\n",
       "    </tr>\n",
       "    <tr>\n",
       "      <th>10626610</th>\n",
       "      <td>NW1</td>\n",
       "      <td>151779</td>\n",
       "    </tr>\n",
       "  </tbody>\n",
       "</table>\n",
       "</div>"
      ],
      "text/plain": [
       "           Exit Zone  Annual Quantity (kWh)\n",
       "Meter ID                                   \n",
       "1000000603       SC1                  12337\n",
       "10588707         EM2                  75123\n",
       "10626610         NW1                 151779"
      ]
     },
     "execution_count": 4,
     "metadata": {},
     "output_type": "execute_result"
    }
   ],
   "source": [
    "meters.head()"
   ]
  },
  {
   "cell_type": "code",
   "execution_count": 5,
   "metadata": {},
   "outputs": [
    {
     "data": {
      "text/html": [
       "<div>\n",
       "<style scoped>\n",
       "    .dataframe tbody tr th:only-of-type {\n",
       "        vertical-align: middle;\n",
       "    }\n",
       "\n",
       "    .dataframe tbody tr th {\n",
       "        vertical-align: top;\n",
       "    }\n",
       "\n",
       "    .dataframe thead th {\n",
       "        text-align: right;\n",
       "    }\n",
       "</style>\n",
       "<table border=\"1\" class=\"dataframe\">\n",
       "  <thead>\n",
       "    <tr style=\"text-align: right;\">\n",
       "      <th></th>\n",
       "      <th>Exit Zone</th>\n",
       "      <th>Annual Quantity (Min)</th>\n",
       "      <th>Annual Quantity (Max)</th>\n",
       "      <th>Rate (p/kWh)</th>\n",
       "    </tr>\n",
       "    <tr>\n",
       "      <th>Date</th>\n",
       "      <th></th>\n",
       "      <th></th>\n",
       "      <th></th>\n",
       "      <th></th>\n",
       "    </tr>\n",
       "  </thead>\n",
       "  <tbody>\n",
       "    <tr>\n",
       "      <th>2020-04-01</th>\n",
       "      <td>EA1</td>\n",
       "      <td>0</td>\n",
       "      <td>73200.0</td>\n",
       "      <td>0.0287</td>\n",
       "    </tr>\n",
       "    <tr>\n",
       "      <th>2020-04-01</th>\n",
       "      <td>EA2</td>\n",
       "      <td>0</td>\n",
       "      <td>73200.0</td>\n",
       "      <td>0.0287</td>\n",
       "    </tr>\n",
       "    <tr>\n",
       "      <th>2020-04-01</th>\n",
       "      <td>EA3</td>\n",
       "      <td>0</td>\n",
       "      <td>73200.0</td>\n",
       "      <td>0.0287</td>\n",
       "    </tr>\n",
       "    <tr>\n",
       "      <th>2020-04-01</th>\n",
       "      <td>EA4</td>\n",
       "      <td>0</td>\n",
       "      <td>73200.0</td>\n",
       "      <td>0.0287</td>\n",
       "    </tr>\n",
       "    <tr>\n",
       "      <th>2020-04-01</th>\n",
       "      <td>EM1</td>\n",
       "      <td>0</td>\n",
       "      <td>73200.0</td>\n",
       "      <td>0.0287</td>\n",
       "    </tr>\n",
       "  </tbody>\n",
       "</table>\n",
       "</div>"
      ],
      "text/plain": [
       "           Exit Zone  Annual Quantity (Min)  Annual Quantity (Max)  \\\n",
       "Date                                                                 \n",
       "2020-04-01       EA1                      0                73200.0   \n",
       "2020-04-01       EA2                      0                73200.0   \n",
       "2020-04-01       EA3                      0                73200.0   \n",
       "2020-04-01       EA4                      0                73200.0   \n",
       "2020-04-01       EM1                      0                73200.0   \n",
       "\n",
       "            Rate (p/kWh)  \n",
       "Date                      \n",
       "2020-04-01        0.0287  \n",
       "2020-04-01        0.0287  \n",
       "2020-04-01        0.0287  \n",
       "2020-04-01        0.0287  \n",
       "2020-04-01        0.0287  "
      ]
     },
     "execution_count": 5,
     "metadata": {},
     "output_type": "execute_result"
    }
   ],
   "source": [
    "rates.head()"
   ]
  },
  {
   "cell_type": "markdown",
   "metadata": {},
   "source": [
    "### Helper functions for getting annual qty and exit zone"
   ]
  },
  {
   "cell_type": "code",
   "execution_count": 6,
   "metadata": {},
   "outputs": [],
   "source": [
    "def get_qty(meter_ID):\n",
    "    \"\"\"\n",
    "    extract annual forecasted quantity\n",
    "    in: meter_ID (int)\n",
    "    returns: qty (int)\n",
    "    \"\"\"\n",
    "    #filter for meter\n",
    "    meter = meters.loc[meter_ID]\n",
    "    \n",
    "    #sum full time period\n",
    "    qty = meter['Annual Quantity (kWh)']\n",
    "    \n",
    "    return qty\n",
    "\n",
    "def get_exit(meter_ID):\n",
    "    \"\"\"\n",
    "    extract exit zone\n",
    "    in: meter_ID (int)\n",
    "    returns: exit (str)\n",
    "    \"\"\"\n",
    "    #filter for meter\n",
    "    meter = meters.loc[meter_ID]\n",
    "    \n",
    "    #sum full time period\n",
    "    exit = meter['Exit Zone']\n",
    "    \n",
    "    return exit"
   ]
  },
  {
   "cell_type": "code",
   "execution_count": 7,
   "metadata": {},
   "outputs": [],
   "source": [
    "#test\n",
    "# meter_ID = 1000000603\n",
    "# print(get_exit(meter_ID))\n",
    "# print(get_qty(meter_ID))"
   ]
  },
  {
   "cell_type": "markdown",
   "metadata": {},
   "source": [
    "### Function to calculate day rate"
   ]
  },
  {
   "cell_type": "code",
   "execution_count": 8,
   "metadata": {},
   "outputs": [],
   "source": [
    "def get_rate_date(date): \n",
    "    \"\"\"finds the latest applicable date for rate\"\"\"\n",
    "    pre = rates.loc[rates.index < date]\n",
    "    date = pre.index.max()\n",
    "    return pd.to_datetime(date, format='%Y-%m-%d')\n",
    "\n",
    "#test\n",
    "#print(get_rate_date('20210202'))\n",
    "\n",
    "def calc_rate(meter_ID, date): \n",
    "    \"\"\"get rates for meter_ID on given date\n",
    "    meter_ID (int)\n",
    "    date (pd.dt object)\n",
    "    return: rate (float)\n",
    "    \"\"\"\n",
    "    exit = get_exit(meter_ID)\n",
    "    qty = get_qty(meter_ID)\n",
    "    rate_date = get_rate_date(date)\n",
    "    \n",
    "    #get rates: filter for exit zone, dates and forecasts\n",
    "    rate = rates.get(rates['Exit Zone'] == exit)\n",
    "    rate = rate.get(rate.index == rate_date)\n",
    "    rate = rate.get(rate['Annual Quantity (Min)'] < qty)\n",
    "    rate = rate.get(rate['Annual Quantity (Min)'] == rate['Annual Quantity (Min)'].max())\n",
    "        \n",
    "    return rate['Rate (p/kWh)'].iloc[0]\n",
    "\n",
    "#test\n",
    "#print(calc_rate(10626610,'20210202'))\n",
    "    "
   ]
  },
  {
   "cell_type": "markdown",
   "metadata": {},
   "source": [
    "### Add day rate to forecast"
   ]
  },
  {
   "cell_type": "code",
   "execution_count": 9,
   "metadata": {},
   "outputs": [
    {
     "data": {
      "text/html": [
       "<div>\n",
       "<style scoped>\n",
       "    .dataframe tbody tr th:only-of-type {\n",
       "        vertical-align: middle;\n",
       "    }\n",
       "\n",
       "    .dataframe tbody tr th {\n",
       "        vertical-align: top;\n",
       "    }\n",
       "\n",
       "    .dataframe thead th {\n",
       "        text-align: right;\n",
       "    }\n",
       "</style>\n",
       "<table border=\"1\" class=\"dataframe\">\n",
       "  <thead>\n",
       "    <tr style=\"text-align: right;\">\n",
       "      <th></th>\n",
       "      <th>Meter ID</th>\n",
       "      <th>kWh</th>\n",
       "      <th>Day rate</th>\n",
       "    </tr>\n",
       "    <tr>\n",
       "      <th>Date</th>\n",
       "      <th></th>\n",
       "      <th></th>\n",
       "      <th></th>\n",
       "    </tr>\n",
       "  </thead>\n",
       "  <tbody>\n",
       "    <tr>\n",
       "      <th>2020-10-01</th>\n",
       "      <td>1000000603</td>\n",
       "      <td>28.782474</td>\n",
       "      <td>0.0333</td>\n",
       "    </tr>\n",
       "    <tr>\n",
       "      <th>2020-10-01</th>\n",
       "      <td>10588707</td>\n",
       "      <td>126.367711</td>\n",
       "      <td>0.0228</td>\n",
       "    </tr>\n",
       "    <tr>\n",
       "      <th>2020-10-01</th>\n",
       "      <td>10626610</td>\n",
       "      <td>326.240595</td>\n",
       "      <td>0.0285</td>\n",
       "    </tr>\n",
       "    <tr>\n",
       "      <th>2020-10-02</th>\n",
       "      <td>1000000603</td>\n",
       "      <td>26.690797</td>\n",
       "      <td>0.0333</td>\n",
       "    </tr>\n",
       "    <tr>\n",
       "      <th>2020-10-02</th>\n",
       "      <td>10588707</td>\n",
       "      <td>118.322449</td>\n",
       "      <td>0.0228</td>\n",
       "    </tr>\n",
       "  </tbody>\n",
       "</table>\n",
       "</div>"
      ],
      "text/plain": [
       "              Meter ID         kWh  Day rate\n",
       "Date                                        \n",
       "2020-10-01  1000000603   28.782474    0.0333\n",
       "2020-10-01    10588707  126.367711    0.0228\n",
       "2020-10-01    10626610  326.240595    0.0285\n",
       "2020-10-02  1000000603   26.690797    0.0333\n",
       "2020-10-02    10588707  118.322449    0.0228"
      ]
     },
     "execution_count": 9,
     "metadata": {},
     "output_type": "execute_result"
    }
   ],
   "source": [
    "#duplicate forecast\n",
    "forecast_rate = forecast\n",
    "\n",
    "#add col with day rate using list comprehension\n",
    "forecast_rate['Day rate'] = [calc_rate(meter_ID,  date) for meter_ID, date in zip(forecast['Meter ID'], forecast.index)]\n",
    "\n",
    "forecast_rate.head()\n"
   ]
  },
  {
   "cell_type": "markdown",
   "metadata": {},
   "source": [
    "### Calculate daily cost"
   ]
  },
  {
   "cell_type": "code",
   "execution_count": 10,
   "metadata": {},
   "outputs": [
    {
     "data": {
      "text/html": [
       "<div>\n",
       "<style scoped>\n",
       "    .dataframe tbody tr th:only-of-type {\n",
       "        vertical-align: middle;\n",
       "    }\n",
       "\n",
       "    .dataframe tbody tr th {\n",
       "        vertical-align: top;\n",
       "    }\n",
       "\n",
       "    .dataframe thead th {\n",
       "        text-align: right;\n",
       "    }\n",
       "</style>\n",
       "<table border=\"1\" class=\"dataframe\">\n",
       "  <thead>\n",
       "    <tr style=\"text-align: right;\">\n",
       "      <th></th>\n",
       "      <th>Meter ID</th>\n",
       "      <th>kWh</th>\n",
       "      <th>Day rate</th>\n",
       "      <th>Day cost</th>\n",
       "    </tr>\n",
       "    <tr>\n",
       "      <th>Date</th>\n",
       "      <th></th>\n",
       "      <th></th>\n",
       "      <th></th>\n",
       "      <th></th>\n",
       "    </tr>\n",
       "  </thead>\n",
       "  <tbody>\n",
       "    <tr>\n",
       "      <th>2020-10-01</th>\n",
       "      <td>1000000603</td>\n",
       "      <td>28.782474</td>\n",
       "      <td>0.0333</td>\n",
       "      <td>0.958456</td>\n",
       "    </tr>\n",
       "    <tr>\n",
       "      <th>2020-10-01</th>\n",
       "      <td>10588707</td>\n",
       "      <td>126.367711</td>\n",
       "      <td>0.0228</td>\n",
       "      <td>2.881184</td>\n",
       "    </tr>\n",
       "    <tr>\n",
       "      <th>2020-10-01</th>\n",
       "      <td>10626610</td>\n",
       "      <td>326.240595</td>\n",
       "      <td>0.0285</td>\n",
       "      <td>9.297857</td>\n",
       "    </tr>\n",
       "    <tr>\n",
       "      <th>2020-10-02</th>\n",
       "      <td>1000000603</td>\n",
       "      <td>26.690797</td>\n",
       "      <td>0.0333</td>\n",
       "      <td>0.888804</td>\n",
       "    </tr>\n",
       "    <tr>\n",
       "      <th>2020-10-02</th>\n",
       "      <td>10588707</td>\n",
       "      <td>118.322449</td>\n",
       "      <td>0.0228</td>\n",
       "      <td>2.697752</td>\n",
       "    </tr>\n",
       "  </tbody>\n",
       "</table>\n",
       "</div>"
      ],
      "text/plain": [
       "              Meter ID         kWh  Day rate  Day cost\n",
       "Date                                                  \n",
       "2020-10-01  1000000603   28.782474    0.0333  0.958456\n",
       "2020-10-01    10588707  126.367711    0.0228  2.881184\n",
       "2020-10-01    10626610  326.240595    0.0285  9.297857\n",
       "2020-10-02  1000000603   26.690797    0.0333  0.888804\n",
       "2020-10-02    10588707  118.322449    0.0228  2.697752"
      ]
     },
     "execution_count": 10,
     "metadata": {},
     "output_type": "execute_result"
    }
   ],
   "source": [
    "forecast_rate['Day cost'] = forecast_rate['kWh'] * forecast_rate['Day rate']\n",
    "\n",
    "forecast_rate.head()"
   ]
  },
  {
   "cell_type": "markdown",
   "metadata": {},
   "source": [
    "### Calculate total cost"
   ]
  },
  {
   "cell_type": "code",
   "execution_count": 11,
   "metadata": {},
   "outputs": [
    {
     "data": {
      "text/html": [
       "<div>\n",
       "<style scoped>\n",
       "    .dataframe tbody tr th:only-of-type {\n",
       "        vertical-align: middle;\n",
       "    }\n",
       "\n",
       "    .dataframe tbody tr th {\n",
       "        vertical-align: top;\n",
       "    }\n",
       "\n",
       "    .dataframe thead th {\n",
       "        text-align: right;\n",
       "    }\n",
       "</style>\n",
       "<table border=\"1\" class=\"dataframe\">\n",
       "  <thead>\n",
       "    <tr style=\"text-align: right;\">\n",
       "      <th></th>\n",
       "      <th>Total Estimated Consumption (kWh)</th>\n",
       "      <th>Total Cost (£)</th>\n",
       "    </tr>\n",
       "    <tr>\n",
       "      <th>Meter ID</th>\n",
       "      <th></th>\n",
       "      <th></th>\n",
       "    </tr>\n",
       "  </thead>\n",
       "  <tbody>\n",
       "    <tr>\n",
       "      <th>1000000603</th>\n",
       "      <td>24674.0</td>\n",
       "      <td>8.27</td>\n",
       "    </tr>\n",
       "    <tr>\n",
       "      <th>10588707</th>\n",
       "      <td>122450.0</td>\n",
       "      <td>28.49</td>\n",
       "    </tr>\n",
       "    <tr>\n",
       "      <th>10626610</th>\n",
       "      <td>303558.0</td>\n",
       "      <td>88.23</td>\n",
       "    </tr>\n",
       "  </tbody>\n",
       "</table>\n",
       "</div>"
      ],
      "text/plain": [
       "            Total Estimated Consumption (kWh)  Total Cost (£)\n",
       "Meter ID                                                     \n",
       "1000000603                            24674.0            8.27\n",
       "10588707                             122450.0           28.49\n",
       "10626610                             303558.0           88.23"
      ]
     },
     "execution_count": 11,
     "metadata": {},
     "output_type": "execute_result"
    }
   ],
   "source": [
    "#copy index from meters dataframe\n",
    "total_consumption = pd.DataFrame(index=meters.index)\n",
    "\n",
    "def sum_meter(meter_ID, col):\n",
    "    \"\"\"\n",
    "    function intended for summing forecasted consumption or cost of passed meter\n",
    "    meter_ID = (int)\n",
    "    col = name of column to be summed (string)\n",
    "    return: sum of filtered column (float)\n",
    "    \"\"\"\n",
    "    filtered = forecast_rate.get(forecast_rate['Meter ID'] == meter_ID)\n",
    "    \n",
    "    return filtered[col].sum()\n",
    "    \n",
    "    \n",
    "#calculate estimated total consumption by summing dayly forecast\n",
    "total_consumption['Total Estimated Consumption (kWh)'] = [sum_meter(meter_ID, 'kWh') for meter_ID in total_consumption.index.values]\n",
    "\n",
    "#calculate estimated total consumption by summing dayly forecast\n",
    "total_consumption['Total Cost (£)'] = [sum_meter(meter_ID, 'Day cost') for meter_ID in total_consumption.index.values]\n",
    "#convert pence to £\n",
    "total_consumption['Total Cost (£)'] = total_consumption['Total Cost (£)']/100\n",
    "\n",
    "total_consumption = total_consumption.round(2)\n",
    "total_consumption.head()"
   ]
  }
 ],
 "metadata": {
  "kernelspec": {
   "display_name": "thesisvenv",
   "language": "python",
   "name": "thesisvenv"
  },
  "language_info": {
   "codemirror_mode": {
    "name": "ipython",
    "version": 3
   },
   "file_extension": ".py",
   "mimetype": "text/x-python",
   "name": "python",
   "nbconvert_exporter": "python",
   "pygments_lexer": "ipython3",
   "version": "3.6.9"
  }
 },
 "nbformat": 4,
 "nbformat_minor": 2
}
