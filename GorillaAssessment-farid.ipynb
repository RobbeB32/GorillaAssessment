{
 "cells": [
  {
   "cell_type": "markdown",
   "metadata": {},
   "source": [
    "# Gorilla assessment"
   ]
  },
  {
   "cell_type": "code",
   "execution_count": 189,
   "metadata": {},
   "outputs": [],
   "source": [
    "import numpy as np\n",
    "import pandas as pd"
   ]
  },
  {
   "cell_type": "code",
   "execution_count": 190,
   "metadata": {},
   "outputs": [
    {
     "data": {
      "text/plain": [
       "Date        datetime64[ns]\n",
       "Meter ID             int64\n",
       "kWh                float64\n",
       "dtype: object"
      ]
     },
     "execution_count": 190,
     "metadata": {},
     "output_type": "execute_result"
    }
   ],
   "source": [
    "#date as index enables timeseries operations later on\n",
    "forecast = pd.read_excel('data.xlsx', sheet_name='Forecasted Consumption')\n",
    "meters = pd.read_excel('data.xlsx', sheet_name='Meter List')\n",
    "rates = pd.read_excel('data.xlsx', sheet_name='Rates')\n",
    "\n",
    "forecast.dtypes"
   ]
  },
  {
   "cell_type": "code",
   "execution_count": 191,
   "metadata": {},
   "outputs": [
    {
     "data": {
      "text/html": [
       "<div>\n",
       "<style scoped>\n",
       "    .dataframe tbody tr th:only-of-type {\n",
       "        vertical-align: middle;\n",
       "    }\n",
       "\n",
       "    .dataframe tbody tr th {\n",
       "        vertical-align: top;\n",
       "    }\n",
       "\n",
       "    .dataframe thead th {\n",
       "        text-align: right;\n",
       "    }\n",
       "</style>\n",
       "<table border=\"1\" class=\"dataframe\">\n",
       "  <thead>\n",
       "    <tr style=\"text-align: right;\">\n",
       "      <th></th>\n",
       "      <th>Date</th>\n",
       "      <th>Meter ID</th>\n",
       "      <th>kWh</th>\n",
       "    </tr>\n",
       "  </thead>\n",
       "  <tbody>\n",
       "    <tr>\n",
       "      <th>0</th>\n",
       "      <td>2020-10-01</td>\n",
       "      <td>1000000603</td>\n",
       "      <td>28.782474</td>\n",
       "    </tr>\n",
       "    <tr>\n",
       "      <th>1</th>\n",
       "      <td>2020-10-01</td>\n",
       "      <td>10588707</td>\n",
       "      <td>126.367711</td>\n",
       "    </tr>\n",
       "    <tr>\n",
       "      <th>2</th>\n",
       "      <td>2020-10-01</td>\n",
       "      <td>10626610</td>\n",
       "      <td>326.240595</td>\n",
       "    </tr>\n",
       "    <tr>\n",
       "      <th>3</th>\n",
       "      <td>2020-10-02</td>\n",
       "      <td>1000000603</td>\n",
       "      <td>26.690797</td>\n",
       "    </tr>\n",
       "    <tr>\n",
       "      <th>4</th>\n",
       "      <td>2020-10-02</td>\n",
       "      <td>10588707</td>\n",
       "      <td>118.322449</td>\n",
       "    </tr>\n",
       "  </tbody>\n",
       "</table>\n",
       "</div>"
      ],
      "text/plain": [
       "        Date    Meter ID         kWh\n",
       "0 2020-10-01  1000000603   28.782474\n",
       "1 2020-10-01    10588707  126.367711\n",
       "2 2020-10-01    10626610  326.240595\n",
       "3 2020-10-02  1000000603   26.690797\n",
       "4 2020-10-02    10588707  118.322449"
      ]
     },
     "execution_count": 191,
     "metadata": {},
     "output_type": "execute_result"
    }
   ],
   "source": [
    "forecast.head()"
   ]
  },
  {
   "cell_type": "code",
   "execution_count": 192,
   "metadata": {},
   "outputs": [
    {
     "data": {
      "text/html": [
       "<div>\n",
       "<style scoped>\n",
       "    .dataframe tbody tr th:only-of-type {\n",
       "        vertical-align: middle;\n",
       "    }\n",
       "\n",
       "    .dataframe tbody tr th {\n",
       "        vertical-align: top;\n",
       "    }\n",
       "\n",
       "    .dataframe thead th {\n",
       "        text-align: right;\n",
       "    }\n",
       "</style>\n",
       "<table border=\"1\" class=\"dataframe\">\n",
       "  <thead>\n",
       "    <tr style=\"text-align: right;\">\n",
       "      <th></th>\n",
       "      <th>Meter ID</th>\n",
       "      <th>Exit Zone</th>\n",
       "      <th>Annual Quantity (kWh)</th>\n",
       "    </tr>\n",
       "  </thead>\n",
       "  <tbody>\n",
       "    <tr>\n",
       "      <th>0</th>\n",
       "      <td>1000000603</td>\n",
       "      <td>SC1</td>\n",
       "      <td>12337</td>\n",
       "    </tr>\n",
       "    <tr>\n",
       "      <th>1</th>\n",
       "      <td>10588707</td>\n",
       "      <td>EM2</td>\n",
       "      <td>75123</td>\n",
       "    </tr>\n",
       "    <tr>\n",
       "      <th>2</th>\n",
       "      <td>10626610</td>\n",
       "      <td>NW1</td>\n",
       "      <td>151779</td>\n",
       "    </tr>\n",
       "  </tbody>\n",
       "</table>\n",
       "</div>"
      ],
      "text/plain": [
       "     Meter ID Exit Zone  Annual Quantity (kWh)\n",
       "0  1000000603       SC1                  12337\n",
       "1    10588707       EM2                  75123\n",
       "2    10626610       NW1                 151779"
      ]
     },
     "execution_count": 192,
     "metadata": {},
     "output_type": "execute_result"
    }
   ],
   "source": [
    "meters.head()"
   ]
  },
  {
   "cell_type": "code",
   "execution_count": 193,
   "metadata": {},
   "outputs": [
    {
     "data": {
      "text/html": [
       "<div>\n",
       "<style scoped>\n",
       "    .dataframe tbody tr th:only-of-type {\n",
       "        vertical-align: middle;\n",
       "    }\n",
       "\n",
       "    .dataframe tbody tr th {\n",
       "        vertical-align: top;\n",
       "    }\n",
       "\n",
       "    .dataframe thead th {\n",
       "        text-align: right;\n",
       "    }\n",
       "</style>\n",
       "<table border=\"1\" class=\"dataframe\">\n",
       "  <thead>\n",
       "    <tr style=\"text-align: right;\">\n",
       "      <th></th>\n",
       "      <th>Date</th>\n",
       "      <th>Exit Zone</th>\n",
       "      <th>Annual Quantity (Min)</th>\n",
       "      <th>Annual Quantity (Max)</th>\n",
       "      <th>Rate (p/kWh)</th>\n",
       "    </tr>\n",
       "  </thead>\n",
       "  <tbody>\n",
       "    <tr>\n",
       "      <th>0</th>\n",
       "      <td>2020-04-01</td>\n",
       "      <td>EA1</td>\n",
       "      <td>0</td>\n",
       "      <td>73200.0</td>\n",
       "      <td>0.0287</td>\n",
       "    </tr>\n",
       "    <tr>\n",
       "      <th>1</th>\n",
       "      <td>2020-04-01</td>\n",
       "      <td>EA2</td>\n",
       "      <td>0</td>\n",
       "      <td>73200.0</td>\n",
       "      <td>0.0287</td>\n",
       "    </tr>\n",
       "    <tr>\n",
       "      <th>2</th>\n",
       "      <td>2020-04-01</td>\n",
       "      <td>EA3</td>\n",
       "      <td>0</td>\n",
       "      <td>73200.0</td>\n",
       "      <td>0.0287</td>\n",
       "    </tr>\n",
       "    <tr>\n",
       "      <th>3</th>\n",
       "      <td>2020-04-01</td>\n",
       "      <td>EA4</td>\n",
       "      <td>0</td>\n",
       "      <td>73200.0</td>\n",
       "      <td>0.0287</td>\n",
       "    </tr>\n",
       "    <tr>\n",
       "      <th>4</th>\n",
       "      <td>2020-04-01</td>\n",
       "      <td>EM1</td>\n",
       "      <td>0</td>\n",
       "      <td>73200.0</td>\n",
       "      <td>0.0287</td>\n",
       "    </tr>\n",
       "  </tbody>\n",
       "</table>\n",
       "</div>"
      ],
      "text/plain": [
       "        Date Exit Zone  Annual Quantity (Min)  Annual Quantity (Max)  \\\n",
       "0 2020-04-01       EA1                      0                73200.0   \n",
       "1 2020-04-01       EA2                      0                73200.0   \n",
       "2 2020-04-01       EA3                      0                73200.0   \n",
       "3 2020-04-01       EA4                      0                73200.0   \n",
       "4 2020-04-01       EM1                      0                73200.0   \n",
       "\n",
       "   Rate (p/kWh)  \n",
       "0        0.0287  \n",
       "1        0.0287  \n",
       "2        0.0287  \n",
       "3        0.0287  \n",
       "4        0.0287  "
      ]
     },
     "execution_count": 193,
     "metadata": {},
     "output_type": "execute_result"
    }
   ],
   "source": [
    "rates.head()"
   ]
  },
  {
   "cell_type": "markdown",
   "metadata": {},
   "source": [
    "# Farid's Solution"
   ]
  },
  {
   "cell_type": "markdown",
   "metadata": {},
   "source": [
    "We want to match the correct rate to the meter, so we inner join on exit Zone, we'd like to join on Annual Quantity as well but it's not an exact join. We'll fix this later."
   ]
  },
  {
   "cell_type": "code",
   "execution_count": 194,
   "metadata": {},
   "outputs": [
    {
     "data": {
      "text/html": [
       "<div>\n",
       "<style scoped>\n",
       "    .dataframe tbody tr th:only-of-type {\n",
       "        vertical-align: middle;\n",
       "    }\n",
       "\n",
       "    .dataframe tbody tr th {\n",
       "        vertical-align: top;\n",
       "    }\n",
       "\n",
       "    .dataframe thead th {\n",
       "        text-align: right;\n",
       "    }\n",
       "</style>\n",
       "<table border=\"1\" class=\"dataframe\">\n",
       "  <thead>\n",
       "    <tr style=\"text-align: right;\">\n",
       "      <th></th>\n",
       "      <th>Meter ID</th>\n",
       "      <th>Exit Zone</th>\n",
       "      <th>Annual Quantity (kWh)</th>\n",
       "      <th>Date</th>\n",
       "      <th>Annual Quantity (Min)</th>\n",
       "      <th>Annual Quantity (Max)</th>\n",
       "      <th>Rate (p/kWh)</th>\n",
       "    </tr>\n",
       "  </thead>\n",
       "  <tbody>\n",
       "    <tr>\n",
       "      <th>0</th>\n",
       "      <td>1000000603</td>\n",
       "      <td>SC1</td>\n",
       "      <td>12337</td>\n",
       "      <td>2020-04-01</td>\n",
       "      <td>0</td>\n",
       "      <td>73200.0</td>\n",
       "      <td>0.0333</td>\n",
       "    </tr>\n",
       "    <tr>\n",
       "      <th>1</th>\n",
       "      <td>1000000603</td>\n",
       "      <td>SC1</td>\n",
       "      <td>12337</td>\n",
       "      <td>2020-04-01</td>\n",
       "      <td>73200</td>\n",
       "      <td>732000.0</td>\n",
       "      <td>0.0297</td>\n",
       "    </tr>\n",
       "    <tr>\n",
       "      <th>2</th>\n",
       "      <td>1000000603</td>\n",
       "      <td>SC1</td>\n",
       "      <td>12337</td>\n",
       "      <td>2020-04-01</td>\n",
       "      <td>732000</td>\n",
       "      <td>NaN</td>\n",
       "      <td>0.2431</td>\n",
       "    </tr>\n",
       "    <tr>\n",
       "      <th>3</th>\n",
       "      <td>1000000603</td>\n",
       "      <td>SC1</td>\n",
       "      <td>12337</td>\n",
       "      <td>2020-10-01</td>\n",
       "      <td>0</td>\n",
       "      <td>73200.0</td>\n",
       "      <td>0.0333</td>\n",
       "    </tr>\n",
       "    <tr>\n",
       "      <th>4</th>\n",
       "      <td>1000000603</td>\n",
       "      <td>SC1</td>\n",
       "      <td>12337</td>\n",
       "      <td>2020-10-01</td>\n",
       "      <td>73200</td>\n",
       "      <td>732000.0</td>\n",
       "      <td>0.0297</td>\n",
       "    </tr>\n",
       "  </tbody>\n",
       "</table>\n",
       "</div>"
      ],
      "text/plain": [
       "     Meter ID Exit Zone  Annual Quantity (kWh)       Date  \\\n",
       "0  1000000603       SC1                  12337 2020-04-01   \n",
       "1  1000000603       SC1                  12337 2020-04-01   \n",
       "2  1000000603       SC1                  12337 2020-04-01   \n",
       "3  1000000603       SC1                  12337 2020-10-01   \n",
       "4  1000000603       SC1                  12337 2020-10-01   \n",
       "\n",
       "   Annual Quantity (Min)  Annual Quantity (Max)  Rate (p/kWh)  \n",
       "0                      0                73200.0        0.0333  \n",
       "1                  73200               732000.0        0.0297  \n",
       "2                 732000                    NaN        0.2431  \n",
       "3                      0                73200.0        0.0333  \n",
       "4                  73200               732000.0        0.0297  "
      ]
     },
     "execution_count": 194,
     "metadata": {},
     "output_type": "execute_result"
    }
   ],
   "source": [
    "result = meters.merge(rates, on=\"Exit Zone\")\n",
    "\n",
    "result.head()"
   ]
  },
  {
   "cell_type": "markdown",
   "metadata": {},
   "source": [
    "We have to filter the Annual Quantity between Max and Min to get the correct rate per meter, but there are empties in Max, fix this"
   ]
  },
  {
   "cell_type": "code",
   "execution_count": 195,
   "metadata": {},
   "outputs": [],
   "source": [
    "result[\"Annual Quantity (Max)\"] = result[\"Annual Quantity (Max)\"].fillna(np.inf)"
   ]
  },
  {
   "cell_type": "markdown",
   "metadata": {},
   "source": [
    "Preform the filter, throw away unnecessary columns"
   ]
  },
  {
   "cell_type": "code",
   "execution_count": 196,
   "metadata": {},
   "outputs": [
    {
     "data": {
      "text/html": [
       "<div>\n",
       "<style scoped>\n",
       "    .dataframe tbody tr th:only-of-type {\n",
       "        vertical-align: middle;\n",
       "    }\n",
       "\n",
       "    .dataframe tbody tr th {\n",
       "        vertical-align: top;\n",
       "    }\n",
       "\n",
       "    .dataframe thead th {\n",
       "        text-align: right;\n",
       "    }\n",
       "</style>\n",
       "<table border=\"1\" class=\"dataframe\">\n",
       "  <thead>\n",
       "    <tr style=\"text-align: right;\">\n",
       "      <th></th>\n",
       "      <th>Meter ID</th>\n",
       "      <th>Date</th>\n",
       "      <th>Rate (p/kWh)</th>\n",
       "    </tr>\n",
       "  </thead>\n",
       "  <tbody>\n",
       "    <tr>\n",
       "      <th>0</th>\n",
       "      <td>1000000603</td>\n",
       "      <td>2020-04-01</td>\n",
       "      <td>0.033300</td>\n",
       "    </tr>\n",
       "    <tr>\n",
       "      <th>3</th>\n",
       "      <td>1000000603</td>\n",
       "      <td>2020-10-01</td>\n",
       "      <td>0.033300</td>\n",
       "    </tr>\n",
       "    <tr>\n",
       "      <th>6</th>\n",
       "      <td>1000000603</td>\n",
       "      <td>2021-04-01</td>\n",
       "      <td>0.033313</td>\n",
       "    </tr>\n",
       "    <tr>\n",
       "      <th>9</th>\n",
       "      <td>1000000603</td>\n",
       "      <td>2021-10-01</td>\n",
       "      <td>0.033313</td>\n",
       "    </tr>\n",
       "    <tr>\n",
       "      <th>12</th>\n",
       "      <td>1000000603</td>\n",
       "      <td>2022-04-01</td>\n",
       "      <td>0.034706</td>\n",
       "    </tr>\n",
       "  </tbody>\n",
       "</table>\n",
       "</div>"
      ],
      "text/plain": [
       "      Meter ID       Date  Rate (p/kWh)\n",
       "0   1000000603 2020-04-01      0.033300\n",
       "3   1000000603 2020-10-01      0.033300\n",
       "6   1000000603 2021-04-01      0.033313\n",
       "9   1000000603 2021-10-01      0.033313\n",
       "12  1000000603 2022-04-01      0.034706"
      ]
     },
     "execution_count": 196,
     "metadata": {},
     "output_type": "execute_result"
    }
   ],
   "source": [
    "result = result[result[\"Annual Quantity (kWh)\"].between(result[\"Annual Quantity (Min)\"], result[\"Annual Quantity (Max)\"])]\n",
    "result = result[[\"Meter ID\", \"Date\", \"Rate (p/kWh)\"]]\n",
    "\n",
    "result.head()"
   ]
  },
  {
   "cell_type": "markdown",
   "metadata": {},
   "source": [
    "Now we have to join the forecast on date, one possible solution is resampling the result first to a daily level."
   ]
  },
  {
   "cell_type": "code",
   "execution_count": 197,
   "metadata": {},
   "outputs": [
    {
     "data": {
      "text/html": [
       "<div>\n",
       "<style scoped>\n",
       "    .dataframe tbody tr th:only-of-type {\n",
       "        vertical-align: middle;\n",
       "    }\n",
       "\n",
       "    .dataframe tbody tr th {\n",
       "        vertical-align: top;\n",
       "    }\n",
       "\n",
       "    .dataframe thead th {\n",
       "        text-align: right;\n",
       "    }\n",
       "</style>\n",
       "<table border=\"1\" class=\"dataframe\">\n",
       "  <thead>\n",
       "    <tr style=\"text-align: right;\">\n",
       "      <th></th>\n",
       "      <th></th>\n",
       "      <th>Meter ID</th>\n",
       "      <th>Rate (p/kWh)</th>\n",
       "    </tr>\n",
       "    <tr>\n",
       "      <th></th>\n",
       "      <th>Date</th>\n",
       "      <th></th>\n",
       "      <th></th>\n",
       "    </tr>\n",
       "  </thead>\n",
       "  <tbody>\n",
       "    <tr>\n",
       "      <th rowspan=\"5\" valign=\"top\">0</th>\n",
       "      <th>2020-04-01</th>\n",
       "      <td>10588707</td>\n",
       "      <td>0.0228</td>\n",
       "    </tr>\n",
       "    <tr>\n",
       "      <th>2020-04-02</th>\n",
       "      <td>10588707</td>\n",
       "      <td>0.0228</td>\n",
       "    </tr>\n",
       "    <tr>\n",
       "      <th>2020-04-03</th>\n",
       "      <td>10588707</td>\n",
       "      <td>0.0228</td>\n",
       "    </tr>\n",
       "    <tr>\n",
       "      <th>2020-04-04</th>\n",
       "      <td>10588707</td>\n",
       "      <td>0.0228</td>\n",
       "    </tr>\n",
       "    <tr>\n",
       "      <th>2020-04-05</th>\n",
       "      <td>10588707</td>\n",
       "      <td>0.0228</td>\n",
       "    </tr>\n",
       "  </tbody>\n",
       "</table>\n",
       "</div>"
      ],
      "text/plain": [
       "              Meter ID  Rate (p/kWh)\n",
       "  Date                              \n",
       "0 2020-04-01  10588707        0.0228\n",
       "  2020-04-02  10588707        0.0228\n",
       "  2020-04-03  10588707        0.0228\n",
       "  2020-04-04  10588707        0.0228\n",
       "  2020-04-05  10588707        0.0228"
      ]
     },
     "execution_count": 197,
     "metadata": {},
     "output_type": "execute_result"
    }
   ],
   "source": [
    "result = result.set_index(\"Date\").groupby(\"Meter ID\", as_index=False).resample(\"D\").agg(\"ffill\")\n",
    "\n",
    "result.head()"
   ]
  },
  {
   "cell_type": "code",
   "execution_count": 198,
   "metadata": {},
   "outputs": [
    {
     "data": {
      "text/html": [
       "<div>\n",
       "<style scoped>\n",
       "    .dataframe tbody tr th:only-of-type {\n",
       "        vertical-align: middle;\n",
       "    }\n",
       "\n",
       "    .dataframe tbody tr th {\n",
       "        vertical-align: top;\n",
       "    }\n",
       "\n",
       "    .dataframe thead th {\n",
       "        text-align: right;\n",
       "    }\n",
       "</style>\n",
       "<table border=\"1\" class=\"dataframe\">\n",
       "  <thead>\n",
       "    <tr style=\"text-align: right;\">\n",
       "      <th></th>\n",
       "      <th>Meter ID</th>\n",
       "      <th>Date</th>\n",
       "      <th>Rate (p/kWh)</th>\n",
       "      <th>kWh</th>\n",
       "    </tr>\n",
       "  </thead>\n",
       "  <tbody>\n",
       "    <tr>\n",
       "      <th>0</th>\n",
       "      <td>10588707</td>\n",
       "      <td>2020-10-01</td>\n",
       "      <td>0.0228</td>\n",
       "      <td>126.367711</td>\n",
       "    </tr>\n",
       "    <tr>\n",
       "      <th>1</th>\n",
       "      <td>10588707</td>\n",
       "      <td>2020-10-02</td>\n",
       "      <td>0.0228</td>\n",
       "      <td>118.322449</td>\n",
       "    </tr>\n",
       "    <tr>\n",
       "      <th>2</th>\n",
       "      <td>10588707</td>\n",
       "      <td>2020-10-03</td>\n",
       "      <td>0.0228</td>\n",
       "      <td>94.272125</td>\n",
       "    </tr>\n",
       "    <tr>\n",
       "      <th>3</th>\n",
       "      <td>10588707</td>\n",
       "      <td>2020-10-04</td>\n",
       "      <td>0.0228</td>\n",
       "      <td>97.641038</td>\n",
       "    </tr>\n",
       "    <tr>\n",
       "      <th>4</th>\n",
       "      <td>10588707</td>\n",
       "      <td>2020-10-05</td>\n",
       "      <td>0.0228</td>\n",
       "      <td>138.761245</td>\n",
       "    </tr>\n",
       "  </tbody>\n",
       "</table>\n",
       "</div>"
      ],
      "text/plain": [
       "   Meter ID       Date  Rate (p/kWh)         kWh\n",
       "0  10588707 2020-10-01        0.0228  126.367711\n",
       "1  10588707 2020-10-02        0.0228  118.322449\n",
       "2  10588707 2020-10-03        0.0228   94.272125\n",
       "3  10588707 2020-10-04        0.0228   97.641038\n",
       "4  10588707 2020-10-05        0.0228  138.761245"
      ]
     },
     "execution_count": 198,
     "metadata": {},
     "output_type": "execute_result"
    }
   ],
   "source": [
    "result = result.merge(forecast, on=[\"Meter ID\", \"Date\"])\n",
    "\n",
    "result.head()"
   ]
  },
  {
   "cell_type": "code",
   "execution_count": 199,
   "metadata": {},
   "outputs": [
    {
     "data": {
      "text/html": [
       "<div>\n",
       "<style scoped>\n",
       "    .dataframe tbody tr th:only-of-type {\n",
       "        vertical-align: middle;\n",
       "    }\n",
       "\n",
       "    .dataframe tbody tr th {\n",
       "        vertical-align: top;\n",
       "    }\n",
       "\n",
       "    .dataframe thead th {\n",
       "        text-align: right;\n",
       "    }\n",
       "</style>\n",
       "<table border=\"1\" class=\"dataframe\">\n",
       "  <thead>\n",
       "    <tr style=\"text-align: right;\">\n",
       "      <th></th>\n",
       "      <th>Meter ID</th>\n",
       "      <th>Date</th>\n",
       "      <th>Rate (p/kWh)</th>\n",
       "      <th>kWh</th>\n",
       "      <th>Daily Cost</th>\n",
       "    </tr>\n",
       "  </thead>\n",
       "  <tbody>\n",
       "    <tr>\n",
       "      <th>0</th>\n",
       "      <td>10588707</td>\n",
       "      <td>2020-10-01</td>\n",
       "      <td>0.0228</td>\n",
       "      <td>126.367711</td>\n",
       "      <td>0.028812</td>\n",
       "    </tr>\n",
       "    <tr>\n",
       "      <th>1</th>\n",
       "      <td>10588707</td>\n",
       "      <td>2020-10-02</td>\n",
       "      <td>0.0228</td>\n",
       "      <td>118.322449</td>\n",
       "      <td>0.026978</td>\n",
       "    </tr>\n",
       "    <tr>\n",
       "      <th>2</th>\n",
       "      <td>10588707</td>\n",
       "      <td>2020-10-03</td>\n",
       "      <td>0.0228</td>\n",
       "      <td>94.272125</td>\n",
       "      <td>0.021494</td>\n",
       "    </tr>\n",
       "    <tr>\n",
       "      <th>3</th>\n",
       "      <td>10588707</td>\n",
       "      <td>2020-10-04</td>\n",
       "      <td>0.0228</td>\n",
       "      <td>97.641038</td>\n",
       "      <td>0.022262</td>\n",
       "    </tr>\n",
       "    <tr>\n",
       "      <th>4</th>\n",
       "      <td>10588707</td>\n",
       "      <td>2020-10-05</td>\n",
       "      <td>0.0228</td>\n",
       "      <td>138.761245</td>\n",
       "      <td>0.031638</td>\n",
       "    </tr>\n",
       "  </tbody>\n",
       "</table>\n",
       "</div>"
      ],
      "text/plain": [
       "   Meter ID       Date  Rate (p/kWh)         kWh  Daily Cost\n",
       "0  10588707 2020-10-01        0.0228  126.367711    0.028812\n",
       "1  10588707 2020-10-02        0.0228  118.322449    0.026978\n",
       "2  10588707 2020-10-03        0.0228   94.272125    0.021494\n",
       "3  10588707 2020-10-04        0.0228   97.641038    0.022262\n",
       "4  10588707 2020-10-05        0.0228  138.761245    0.031638"
      ]
     },
     "execution_count": 199,
     "metadata": {},
     "output_type": "execute_result"
    }
   ],
   "source": [
    "result[\"Daily Cost\"] = result[\"Rate (p/kWh)\"] * result[\"kWh\"] / 100\n",
    "\n",
    "result.head()"
   ]
  },
  {
   "cell_type": "code",
   "execution_count": 200,
   "metadata": {},
   "outputs": [],
   "source": [
    "result = result.groupby(\"Meter ID\").agg({\"Daily Cost\": \"sum\", \"kWh\": \"sum\"})\n",
    "\n",
    "result = result.rename(columns={\"Daily Cost\": \"Total Cost (£)\", \"kWh\": \"Total Estimated Consumption (kWh)\"})\n",
    "\n",
    "result = result.round(2)"
   ]
  },
  {
   "cell_type": "code",
   "execution_count": 201,
   "metadata": {},
   "outputs": [
    {
     "data": {
      "text/html": [
       "<div>\n",
       "<style scoped>\n",
       "    .dataframe tbody tr th:only-of-type {\n",
       "        vertical-align: middle;\n",
       "    }\n",
       "\n",
       "    .dataframe tbody tr th {\n",
       "        vertical-align: top;\n",
       "    }\n",
       "\n",
       "    .dataframe thead th {\n",
       "        text-align: right;\n",
       "    }\n",
       "</style>\n",
       "<table border=\"1\" class=\"dataframe\">\n",
       "  <thead>\n",
       "    <tr style=\"text-align: right;\">\n",
       "      <th></th>\n",
       "      <th>Total Cost (£)</th>\n",
       "      <th>Total Estimated Consumption (kWh)</th>\n",
       "    </tr>\n",
       "    <tr>\n",
       "      <th>Meter ID</th>\n",
       "      <th></th>\n",
       "      <th></th>\n",
       "    </tr>\n",
       "  </thead>\n",
       "  <tbody>\n",
       "    <tr>\n",
       "      <th>10588707</th>\n",
       "      <td>28.50</td>\n",
       "      <td>122450.0</td>\n",
       "    </tr>\n",
       "    <tr>\n",
       "      <th>10626610</th>\n",
       "      <td>88.24</td>\n",
       "      <td>303558.0</td>\n",
       "    </tr>\n",
       "    <tr>\n",
       "      <th>1000000603</th>\n",
       "      <td>8.27</td>\n",
       "      <td>24674.0</td>\n",
       "    </tr>\n",
       "  </tbody>\n",
       "</table>\n",
       "</div>"
      ],
      "text/plain": [
       "            Total Cost (£)  Total Estimated Consumption (kWh)\n",
       "Meter ID                                                     \n",
       "10588707             28.50                           122450.0\n",
       "10626610             88.24                           303558.0\n",
       "1000000603            8.27                            24674.0"
      ]
     },
     "execution_count": 201,
     "metadata": {},
     "output_type": "execute_result"
    }
   ],
   "source": [
    "result"
   ]
  },
  {
   "cell_type": "code",
   "execution_count": 202,
   "metadata": {},
   "outputs": [],
   "source": [
    "def get_qty(meter_ID):\n",
    "    \"\"\"\n",
    "    extract annual forecasted quantity\n",
    "    in: meter_ID (int)\n",
    "    returns: qty (int)\n",
    "    \"\"\"\n",
    "    #filter for meter\n",
    "    meter = meters.loc[meter_ID]\n",
    "    \n",
    "    #sum full time period\n",
    "    qty = meter['Annual Quantity (kWh)']\n",
    "    \n",
    "    return qty\n",
    "\n",
    "def get_exit(meter_ID):\n",
    "    \"\"\"\n",
    "    extract exit zone\n",
    "    in: meter_ID (int)\n",
    "    returns: exit (str)\n",
    "    \"\"\"\n",
    "    #filter for meter\n",
    "    meter = meters.loc[meter_ID]\n",
    "    \n",
    "    #sum full time period\n",
    "    exit = meter['Exit Zone']\n",
    "    \n",
    "    return exit"
   ]
  },
  {
   "cell_type": "code",
   "execution_count": null,
   "metadata": {},
   "outputs": [],
   "source": [
    "#test\n",
    "# meter_ID = 1000000603\n",
    "# print(get_exit(meter_ID))\n",
    "# print(get_qty(meter_ID))"
   ]
  },
  {
   "cell_type": "markdown",
   "metadata": {},
   "source": [
    "### Function to calculate day rate"
   ]
  },
  {
   "cell_type": "code",
   "execution_count": null,
   "metadata": {},
   "outputs": [],
   "source": [
    "def get_rate_date(date): \n",
    "    \"\"\"finds the latest applicable date for rate\"\"\"\n",
    "    pre = rates.loc[rates.index < date]\n",
    "    date = pre.index.max()\n",
    "    return pd.to_datetime(date, format='%Y-%m-%d')\n",
    "\n",
    "#test\n",
    "#print(get_rate_date('20210202'))\n",
    "\n",
    "def calc_rate(meter_ID, date): \n",
    "    \"\"\"get rates for meter_ID on given date\n",
    "    meter_ID (int)\n",
    "    date (pd.dt object)\n",
    "    return: rate (float)\n",
    "    \"\"\"\n",
    "    exit = get_exit(meter_ID)\n",
    "    qty = get_qty(meter_ID)\n",
    "    rate_date = get_rate_date(date)\n",
    "    \n",
    "    #get rates: filter for exit zone, dates and forecasts\n",
    "    rate = rates.get(rates['Exit Zone'] == exit)\n",
    "    rate = rate.get(rate.index == rate_date)\n",
    "    rate = rate.get(rate['Annual Quantity (Min)'] < qty)\n",
    "    rate = rate.get(rate['Annual Quantity (Min)'] == rate['Annual Quantity (Min)'].max())\n",
    "        \n",
    "    return rate['Rate (p/kWh)'].iloc[0]\n",
    "\n",
    "#test\n",
    "#print(calc_rate(10626610,'20210202'))\n",
    "    "
   ]
  },
  {
   "cell_type": "markdown",
   "metadata": {},
   "source": [
    "### Add day rate to forecast"
   ]
  },
  {
   "cell_type": "code",
   "execution_count": null,
   "metadata": {},
   "outputs": [],
   "source": [
    "#duplicate forecast\n",
    "forecast_rate = forecast\n",
    "\n",
    "#add col with day rate using list comprehension\n",
    "forecast_rate['Day rate'] = [calc_rate(meter_ID,  date) for meter_ID, date in zip(forecast['Meter ID'], forecast.index)]\n",
    "\n",
    "forecast_rate.head()\n"
   ]
  },
  {
   "cell_type": "markdown",
   "metadata": {},
   "source": [
    "### Calculate daily cost"
   ]
  },
  {
   "cell_type": "code",
   "execution_count": null,
   "metadata": {},
   "outputs": [],
   "source": [
    "forecast_rate['Day cost'] = forecast_rate['kWh'] * forecast_rate['Day rate']\n",
    "\n",
    "forecast_rate.head()"
   ]
  },
  {
   "cell_type": "markdown",
   "metadata": {},
   "source": [
    "### Calculate total cost"
   ]
  },
  {
   "cell_type": "code",
   "execution_count": null,
   "metadata": {},
   "outputs": [],
   "source": [
    "#copy index from meters dataframe\n",
    "total_consumption = pd.DataFrame(index=meters.index)\n",
    "\n",
    "def sum_meter(meter_ID, col):\n",
    "    \"\"\"\n",
    "    function intended for summing forecasted consumption or cost of passed meter\n",
    "    meter_ID = (int)\n",
    "    col = name of column to be summed (string)\n",
    "    return: sum of filtered column (float)\n",
    "    \"\"\"\n",
    "    filtered = forecast_rate.get(forecast_rate['Meter ID'] == meter_ID)\n",
    "    \n",
    "    return filtered[col].sum()\n",
    "    \n",
    "    \n",
    "#calculate estimated total consumption by summing dayly forecast\n",
    "total_consumption['Total Estimated Consumption (kWh)'] = [sum_meter(meter_ID, 'kWh') for meter_ID in total_consumption.index.values]\n",
    "\n",
    "#calculate estimated total consumption by summing dayly forecast\n",
    "total_consumption['Total Cost (£)'] = [sum_meter(meter_ID, 'Day cost') for meter_ID in total_consumption.index.values]\n",
    "#convert pence to £\n",
    "total_consumption['Total Cost (£)'] = total_consumption['Total Cost (£)']/100\n",
    "\n",
    "total_consumption = total_consumption.round(2)\n",
    "total_consumption.head()"
   ]
  }
 ],
 "metadata": {
  "kernelspec": {
   "display_name": "Python 3",
   "language": "python",
   "name": "python3"
  },
  "language_info": {
   "codemirror_mode": {
    "name": "ipython",
    "version": 3
   },
   "file_extension": ".py",
   "mimetype": "text/x-python",
   "name": "python",
   "nbconvert_exporter": "python",
   "pygments_lexer": "ipython3",
   "version": "3.6.9"
  }
 },
 "nbformat": 4,
 "nbformat_minor": 4
}
